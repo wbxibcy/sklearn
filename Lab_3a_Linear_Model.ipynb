{
 "cells": [
  {
   "cell_type": "markdown",
   "metadata": {},
   "source": [
    "<table class=\"table table-bordered\">\n",
    "    <tr>\n",
    "        <th style=\"text-align:center; width:25%\"><img src='https://www.nus.edu.sg/images/default-source/base/logo.png' style=\"width: 250px; height: 125px; \"></th>\n",
    "        <th style=\"text-align:center;\"><h1>Machine Learning in Python</h1><h2>Lab 3a - Linear Models </h2><h3></h3></th>\n",
    "    </tr>\n",
    "</table>"
   ]
  },
  {
   "cell_type": "code",
   "execution_count": 1,
   "metadata": {},
   "outputs": [],
   "source": [
    "# Import the requried packages\n",
    "import numpy as np\n",
    "import pandas as pd\n",
    "\n",
    "import matplotlib.pyplot as plt\n",
    "%matplotlib inline\n",
    "\n",
    "from sklearn.preprocessing import StandardScaler\n",
    "from sklearn.model_selection import train_test_split\n",
    "from sklearn import linear_model, neighbors, tree, svm, ensemble\n",
    "from sklearn.model_selection import GridSearchCV\n",
    "from sklearn.metrics import mean_squared_error, mean_absolute_error, confusion_matrix, classification_report\n",
    "from sklearn.model_selection import cross_val_score, cross_validate"
   ]
  },
  {
   "cell_type": "markdown",
   "metadata": {},
   "source": [
    "### 1.Classification"
   ]
  },
  {
   "cell_type": "markdown",
   "metadata": {},
   "source": [
    "We will be using the bank marketing campaign data for classification task."
   ]
  },
  {
   "cell_type": "code",
   "execution_count": 2,
   "metadata": {
    "scrolled": true
   },
   "outputs": [
    {
     "name": "stdout",
     "output_type": "stream",
     "text": [
      "   age         job  marital  education default  balance housing loan  contact  \\\n",
      "0   59      admin.  married  secondary      no     2343     yes   no  unknown   \n",
      "1   56      admin.  married  secondary      no       45      no   no  unknown   \n",
      "2   41  technician  married  secondary      no     1270     yes   no  unknown   \n",
      "3   55    services  married  secondary      no     2476     yes   no  unknown   \n",
      "4   54      admin.  married   tertiary      no      184      no   no  unknown   \n",
      "\n",
      "   day month  duration  campaign  pdays  previous poutcome deposit  \n",
      "0    5   may      1042         1     -1         0  unknown     yes  \n",
      "1    5   may      1467         1     -1         0  unknown     yes  \n",
      "2    5   may      1389         1     -1         0  unknown     yes  \n",
      "3    5   may       579         1     -1         0  unknown     yes  \n",
      "4    5   may       673         2     -1         0  unknown     yes  \n",
      "job :\n",
      "Index(['admin.', 'blue-collar', 'entrepreneur', 'housemaid', 'management',\n",
      "       'retired', 'self-employed', 'services', 'student', 'technician',\n",
      "       'unemployed', 'unknown'],\n",
      "      dtype='object')\n",
      "marital :\n",
      "Index(['divorced', 'married', 'single'], dtype='object')\n",
      "education :\n",
      "Index(['primary', 'secondary', 'tertiary', 'unknown'], dtype='object')\n",
      "default :\n",
      "Index(['no', 'yes'], dtype='object')\n",
      "housing :\n",
      "Index(['no', 'yes'], dtype='object')\n",
      "loan :\n",
      "Index(['no', 'yes'], dtype='object')\n",
      "contact :\n",
      "Index(['cellular', 'telephone', 'unknown'], dtype='object')\n",
      "month :\n",
      "Index(['apr', 'aug', 'dec', 'feb', 'jan', 'jul', 'jun', 'mar', 'may', 'nov',\n",
      "       'oct', 'sep'],\n",
      "      dtype='object')\n",
      "poutcome :\n",
      "Index(['failure', 'other', 'success', 'unknown'], dtype='object')\n",
      "deposit :\n",
      "Index(['no', 'yes'], dtype='object')\n",
      "   age  job  marital  education  default  balance  housing  loan  contact  \\\n",
      "0   59    0        1          1        0     2343        1     0        2   \n",
      "1   56    0        1          1        0       45        0     0        2   \n",
      "2   41    9        1          1        0     1270        1     0        2   \n",
      "3   55    7        1          1        0     2476        1     0        2   \n",
      "4   54    0        1          2        0      184        0     0        2   \n",
      "\n",
      "   day  month  duration  campaign  pdays  previous  poutcome  deposit  \n",
      "0    5      8      1042         1     -1         0         3        1  \n",
      "1    5      8      1467         1     -1         0         3        1  \n",
      "2    5      8      1389         1     -1         0         3        1  \n",
      "3    5      8       579         1     -1         0         3        1  \n",
      "4    5      8       673         2     -1         0         3        1  \n"
     ]
    }
   ],
   "source": [
    "# Loading the data\n",
    "bank = pd.read_csv('bank.csv')\n",
    "print(bank.head())\n",
    "# Encode the categorical data into numbers\n",
    "bank_cat = bank.select_dtypes(['object']).copy()\n",
    "for col in bank_cat:\n",
    "    print(col, ':')\n",
    "    codes, uniques = pd.factorize(bank_cat[col], sort=True)\n",
    "    bank[col]=codes\n",
    "    print(uniques)\n",
    "print(bank.head())\n",
    "    \n",
    "# Set the \"deposit\" as target/model output and the rest features as model inputs\n",
    "y = bank['deposit']\n",
    "X = bank.drop(['deposit'], axis=1)\n",
    "\n",
    "# Split the data into training and testing data\n",
    "X_train, X_test, y_train, y_test = train_test_split(X, y, test_size=0.2, random_state=2)\n",
    "\n",
    "#Sacaling the data into a smaller range (-3 to +3)\n",
    "mean = X_train.mean()\n",
    "std = X_train.std()\n",
    "\n",
    "X_train = (X_train - mean) / std\n",
    "X_test = (X_test - mean) / std\n"
   ]
  },
  {
   "cell_type": "code",
   "execution_count": 9,
   "metadata": {},
   "outputs": [
    {
     "data": {
      "text/html": [
       "<style>#sk-container-id-3 {color: black;background-color: white;}#sk-container-id-3 pre{padding: 0;}#sk-container-id-3 div.sk-toggleable {background-color: white;}#sk-container-id-3 label.sk-toggleable__label {cursor: pointer;display: block;width: 100%;margin-bottom: 0;padding: 0.3em;box-sizing: border-box;text-align: center;}#sk-container-id-3 label.sk-toggleable__label-arrow:before {content: \"▸\";float: left;margin-right: 0.25em;color: #696969;}#sk-container-id-3 label.sk-toggleable__label-arrow:hover:before {color: black;}#sk-container-id-3 div.sk-estimator:hover label.sk-toggleable__label-arrow:before {color: black;}#sk-container-id-3 div.sk-toggleable__content {max-height: 0;max-width: 0;overflow: hidden;text-align: left;background-color: #f0f8ff;}#sk-container-id-3 div.sk-toggleable__content pre {margin: 0.2em;color: black;border-radius: 0.25em;background-color: #f0f8ff;}#sk-container-id-3 input.sk-toggleable__control:checked~div.sk-toggleable__content {max-height: 200px;max-width: 100%;overflow: auto;}#sk-container-id-3 input.sk-toggleable__control:checked~label.sk-toggleable__label-arrow:before {content: \"▾\";}#sk-container-id-3 div.sk-estimator input.sk-toggleable__control:checked~label.sk-toggleable__label {background-color: #d4ebff;}#sk-container-id-3 div.sk-label input.sk-toggleable__control:checked~label.sk-toggleable__label {background-color: #d4ebff;}#sk-container-id-3 input.sk-hidden--visually {border: 0;clip: rect(1px 1px 1px 1px);clip: rect(1px, 1px, 1px, 1px);height: 1px;margin: -1px;overflow: hidden;padding: 0;position: absolute;width: 1px;}#sk-container-id-3 div.sk-estimator {font-family: monospace;background-color: #f0f8ff;border: 1px dotted black;border-radius: 0.25em;box-sizing: border-box;margin-bottom: 0.5em;}#sk-container-id-3 div.sk-estimator:hover {background-color: #d4ebff;}#sk-container-id-3 div.sk-parallel-item::after {content: \"\";width: 100%;border-bottom: 1px solid gray;flex-grow: 1;}#sk-container-id-3 div.sk-label:hover label.sk-toggleable__label {background-color: #d4ebff;}#sk-container-id-3 div.sk-serial::before {content: \"\";position: absolute;border-left: 1px solid gray;box-sizing: border-box;top: 0;bottom: 0;left: 50%;z-index: 0;}#sk-container-id-3 div.sk-serial {display: flex;flex-direction: column;align-items: center;background-color: white;padding-right: 0.2em;padding-left: 0.2em;position: relative;}#sk-container-id-3 div.sk-item {position: relative;z-index: 1;}#sk-container-id-3 div.sk-parallel {display: flex;align-items: stretch;justify-content: center;background-color: white;position: relative;}#sk-container-id-3 div.sk-item::before, #sk-container-id-3 div.sk-parallel-item::before {content: \"\";position: absolute;border-left: 1px solid gray;box-sizing: border-box;top: 0;bottom: 0;left: 50%;z-index: -1;}#sk-container-id-3 div.sk-parallel-item {display: flex;flex-direction: column;z-index: 1;position: relative;background-color: white;}#sk-container-id-3 div.sk-parallel-item:first-child::after {align-self: flex-end;width: 50%;}#sk-container-id-3 div.sk-parallel-item:last-child::after {align-self: flex-start;width: 50%;}#sk-container-id-3 div.sk-parallel-item:only-child::after {width: 0;}#sk-container-id-3 div.sk-dashed-wrapped {border: 1px dashed gray;margin: 0 0.4em 0.5em 0.4em;box-sizing: border-box;padding-bottom: 0.4em;background-color: white;}#sk-container-id-3 div.sk-label label {font-family: monospace;font-weight: bold;display: inline-block;line-height: 1.2em;}#sk-container-id-3 div.sk-label-container {text-align: center;}#sk-container-id-3 div.sk-container {/* jupyter's `normalize.less` sets `[hidden] { display: none; }` but bootstrap.min.css set `[hidden] { display: none !important; }` so we also need the `!important` here to be able to override the default hidden behavior on the sphinx rendered scikit-learn.org. See: https://github.com/scikit-learn/scikit-learn/issues/21755 */display: inline-block !important;position: relative;}#sk-container-id-3 div.sk-text-repr-fallback {display: none;}</style><div id=\"sk-container-id-3\" class=\"sk-top-container\"><div class=\"sk-text-repr-fallback\"><pre>LogisticRegression()</pre><b>In a Jupyter environment, please rerun this cell to show the HTML representation or trust the notebook. <br />On GitHub, the HTML representation is unable to render, please try loading this page with nbviewer.org.</b></div><div class=\"sk-container\" hidden><div class=\"sk-item\"><div class=\"sk-estimator sk-toggleable\"><input class=\"sk-toggleable__control sk-hidden--visually\" id=\"sk-estimator-id-3\" type=\"checkbox\" checked><label for=\"sk-estimator-id-3\" class=\"sk-toggleable__label sk-toggleable__label-arrow\">LogisticRegression</label><div class=\"sk-toggleable__content\"><pre>LogisticRegression()</pre></div></div></div></div></div>"
      ],
      "text/plain": [
       "LogisticRegression()"
      ]
     },
     "execution_count": 9,
     "metadata": {},
     "output_type": "execute_result"
    }
   ],
   "source": [
    "#Logistic Regression Model\n",
    "\n",
    "lg_clf = linear_model.LogisticRegression() \n",
    "# Fit the model to the training set\n",
    "lg_clf.fit(X_train,y_train)"
   ]
  },
  {
   "cell_type": "code",
   "execution_count": 10,
   "metadata": {},
   "outputs": [
    {
     "name": "stdout",
     "output_type": "stream",
     "text": [
      "[[ 0.11071648  0.06615286  0.1346478   0.15737429 -0.0517361   0.10347281\n",
      "  -0.5275739  -0.24773081 -0.55150842 -0.05986311  0.13253692  1.72117011\n",
      "  -0.35567351  0.33525199  0.29432498  0.19792347]]\n",
      "[-0.04641553]\n"
     ]
    }
   ],
   "source": [
    "# print out the model coefficients and intercept\n",
    "print(lg_clf.coef_)\n",
    "print(lg_clf.intercept_)"
   ]
  },
  {
   "cell_type": "code",
   "execution_count": 11,
   "metadata": {},
   "outputs": [
    {
     "name": "stdout",
     "output_type": "stream",
     "text": [
      "train_acc: 0.795721805353343 \n",
      " test_acc: 0.8007165248544559\n"
     ]
    }
   ],
   "source": [
    "print('train_acc:', lg_clf.score(X_train, y_train), \n",
    "      '\\n test_acc:', lg_clf.score(X_test, y_test))"
   ]
  },
  {
   "cell_type": "markdown",
   "metadata": {},
   "source": [
    "**statsmodels**"
   ]
  },
  {
   "cell_type": "code",
   "execution_count": 15,
   "metadata": {},
   "outputs": [
    {
     "name": "stdout",
     "output_type": "stream",
     "text": [
      "Optimization terminated successfully.\n",
      "         Current function value: 0.469782\n",
      "         Iterations 7\n"
     ]
    }
   ],
   "source": [
    "# Create another model lg_clf2 using statsmodel.api: the Logit method and fit function\n",
    "import statsmodels.api as sm\n",
    "X_train_add = sm.add_constant(X_train)\n",
    "lg_clf2 = sm.Logit(y_train, X_train_add).fit()"
   ]
  },
  {
   "cell_type": "code",
   "execution_count": 16,
   "metadata": {},
   "outputs": [
    {
     "data": {
      "text/html": [
       "<table class=\"simpletable\">\n",
       "<caption>Logit Regression Results</caption>\n",
       "<tr>\n",
       "  <th>Dep. Variable:</th>        <td>deposit</td>     <th>  No. Observations:  </th>  <td>  8929</td> \n",
       "</tr>\n",
       "<tr>\n",
       "  <th>Model:</th>                 <td>Logit</td>      <th>  Df Residuals:      </th>  <td>  8912</td> \n",
       "</tr>\n",
       "<tr>\n",
       "  <th>Method:</th>                 <td>MLE</td>       <th>  Df Model:          </th>  <td>    16</td> \n",
       "</tr>\n",
       "<tr>\n",
       "  <th>Date:</th>            <td>Wed, 04 Jan 2023</td> <th>  Pseudo R-squ.:     </th>  <td>0.3210</td> \n",
       "</tr>\n",
       "<tr>\n",
       "  <th>Time:</th>                <td>13:31:54</td>     <th>  Log-Likelihood:    </th> <td> -4194.7</td>\n",
       "</tr>\n",
       "<tr>\n",
       "  <th>converged:</th>             <td>True</td>       <th>  LL-Null:           </th> <td> -6178.1</td>\n",
       "</tr>\n",
       "<tr>\n",
       "  <th>Covariance Type:</th>     <td>nonrobust</td>    <th>  LLR p-value:       </th>  <td> 0.000</td> \n",
       "</tr>\n",
       "</table>\n",
       "<table class=\"simpletable\">\n",
       "<tr>\n",
       "      <td></td>         <th>coef</th>     <th>std err</th>      <th>z</th>      <th>P>|z|</th>  <th>[0.025</th>    <th>0.975]</th>  \n",
       "</tr>\n",
       "<tr>\n",
       "  <th>const</th>     <td>   -0.0461</td> <td>    0.028</td> <td>   -1.623</td> <td> 0.105</td> <td>   -0.102</td> <td>    0.010</td>\n",
       "</tr>\n",
       "<tr>\n",
       "  <th>age</th>       <td>    0.1109</td> <td>    0.031</td> <td>    3.615</td> <td> 0.000</td> <td>    0.051</td> <td>    0.171</td>\n",
       "</tr>\n",
       "<tr>\n",
       "  <th>job</th>       <td>    0.0662</td> <td>    0.028</td> <td>    2.400</td> <td> 0.016</td> <td>    0.012</td> <td>    0.120</td>\n",
       "</tr>\n",
       "<tr>\n",
       "  <th>marital</th>   <td>    0.1348</td> <td>    0.031</td> <td>    4.361</td> <td> 0.000</td> <td>    0.074</td> <td>    0.195</td>\n",
       "</tr>\n",
       "<tr>\n",
       "  <th>education</th> <td>    0.1576</td> <td>    0.028</td> <td>    5.670</td> <td> 0.000</td> <td>    0.103</td> <td>    0.212</td>\n",
       "</tr>\n",
       "<tr>\n",
       "  <th>default</th>   <td>   -0.0518</td> <td>    0.030</td> <td>   -1.747</td> <td> 0.081</td> <td>   -0.110</td> <td>    0.006</td>\n",
       "</tr>\n",
       "<tr>\n",
       "  <th>balance</th>   <td>    0.1035</td> <td>    0.029</td> <td>    3.629</td> <td> 0.000</td> <td>    0.048</td> <td>    0.159</td>\n",
       "</tr>\n",
       "<tr>\n",
       "  <th>housing</th>   <td>   -0.5285</td> <td>    0.030</td> <td>  -17.807</td> <td> 0.000</td> <td>   -0.587</td> <td>   -0.470</td>\n",
       "</tr>\n",
       "<tr>\n",
       "  <th>loan</th>      <td>   -0.2481</td> <td>    0.030</td> <td>   -8.365</td> <td> 0.000</td> <td>   -0.306</td> <td>   -0.190</td>\n",
       "</tr>\n",
       "<tr>\n",
       "  <th>contact</th>   <td>   -0.5525</td> <td>    0.033</td> <td>  -16.522</td> <td> 0.000</td> <td>   -0.618</td> <td>   -0.487</td>\n",
       "</tr>\n",
       "<tr>\n",
       "  <th>day</th>       <td>   -0.0599</td> <td>    0.027</td> <td>   -2.213</td> <td> 0.027</td> <td>   -0.113</td> <td>   -0.007</td>\n",
       "</tr>\n",
       "<tr>\n",
       "  <th>month</th>     <td>    0.1329</td> <td>    0.028</td> <td>    4.788</td> <td> 0.000</td> <td>    0.078</td> <td>    0.187</td>\n",
       "</tr>\n",
       "<tr>\n",
       "  <th>duration</th>  <td>    1.7250</td> <td>    0.044</td> <td>   38.792</td> <td> 0.000</td> <td>    1.638</td> <td>    1.812</td>\n",
       "</tr>\n",
       "<tr>\n",
       "  <th>campaign</th>  <td>   -0.3565</td> <td>    0.039</td> <td>   -9.101</td> <td> 0.000</td> <td>   -0.433</td> <td>   -0.280</td>\n",
       "</tr>\n",
       "<tr>\n",
       "  <th>pdays</th>     <td>    0.3364</td> <td>    0.046</td> <td>    7.312</td> <td> 0.000</td> <td>    0.246</td> <td>    0.427</td>\n",
       "</tr>\n",
       "<tr>\n",
       "  <th>previous</th>  <td>    0.2950</td> <td>    0.037</td> <td>    7.955</td> <td> 0.000</td> <td>    0.222</td> <td>    0.368</td>\n",
       "</tr>\n",
       "<tr>\n",
       "  <th>poutcome</th>  <td>    0.1991</td> <td>    0.047</td> <td>    4.226</td> <td> 0.000</td> <td>    0.107</td> <td>    0.291</td>\n",
       "</tr>\n",
       "</table>"
      ],
      "text/plain": [
       "<class 'statsmodels.iolib.summary.Summary'>\n",
       "\"\"\"\n",
       "                           Logit Regression Results                           \n",
       "==============================================================================\n",
       "Dep. Variable:                deposit   No. Observations:                 8929\n",
       "Model:                          Logit   Df Residuals:                     8912\n",
       "Method:                           MLE   Df Model:                           16\n",
       "Date:                Wed, 04 Jan 2023   Pseudo R-squ.:                  0.3210\n",
       "Time:                        13:31:54   Log-Likelihood:                -4194.7\n",
       "converged:                       True   LL-Null:                       -6178.1\n",
       "Covariance Type:            nonrobust   LLR p-value:                     0.000\n",
       "==============================================================================\n",
       "                 coef    std err          z      P>|z|      [0.025      0.975]\n",
       "------------------------------------------------------------------------------\n",
       "const         -0.0461      0.028     -1.623      0.105      -0.102       0.010\n",
       "age            0.1109      0.031      3.615      0.000       0.051       0.171\n",
       "job            0.0662      0.028      2.400      0.016       0.012       0.120\n",
       "marital        0.1348      0.031      4.361      0.000       0.074       0.195\n",
       "education      0.1576      0.028      5.670      0.000       0.103       0.212\n",
       "default       -0.0518      0.030     -1.747      0.081      -0.110       0.006\n",
       "balance        0.1035      0.029      3.629      0.000       0.048       0.159\n",
       "housing       -0.5285      0.030    -17.807      0.000      -0.587      -0.470\n",
       "loan          -0.2481      0.030     -8.365      0.000      -0.306      -0.190\n",
       "contact       -0.5525      0.033    -16.522      0.000      -0.618      -0.487\n",
       "day           -0.0599      0.027     -2.213      0.027      -0.113      -0.007\n",
       "month          0.1329      0.028      4.788      0.000       0.078       0.187\n",
       "duration       1.7250      0.044     38.792      0.000       1.638       1.812\n",
       "campaign      -0.3565      0.039     -9.101      0.000      -0.433      -0.280\n",
       "pdays          0.3364      0.046      7.312      0.000       0.246       0.427\n",
       "previous       0.2950      0.037      7.955      0.000       0.222       0.368\n",
       "poutcome       0.1991      0.047      4.226      0.000       0.107       0.291\n",
       "==============================================================================\n",
       "\"\"\""
      ]
     },
     "execution_count": 16,
     "metadata": {},
     "output_type": "execute_result"
    }
   ],
   "source": [
    "# Print out the Model Summary\n",
    "lg_clf2.summary()"
   ]
  },
  {
   "cell_type": "markdown",
   "metadata": {},
   "source": [
    "The lower the **p-value**, the higher confidence we have on the coefficients of these features, i.e. the more strong indicators to predict `deposit`. "
   ]
  },
  {
   "cell_type": "markdown",
   "metadata": {},
   "source": [
    "### 2. Regression\n",
    "We will be using the supermarket data for regression task. "
   ]
  },
  {
   "cell_type": "code",
   "execution_count": 17,
   "metadata": {
    "scrolled": true
   },
   "outputs": [
    {
     "name": "stdout",
     "output_type": "stream",
     "text": [
      "   Item_Weight Item_Fat_Content  Item_Visibility              Item_Type  \\\n",
      "0         9.30          Low Fat         0.016047                  Dairy   \n",
      "1         5.92          Regular         0.019278            Soft Drinks   \n",
      "2        17.50          Low Fat         0.016760                   Meat   \n",
      "3        19.20          Regular         0.000000  Fruits and Vegetables   \n",
      "4         8.93          Low Fat         0.000000              Household   \n",
      "\n",
      "   Item_MRP Outlet_Identifier  Outlet_Establishment_Year Outlet_Size  \\\n",
      "0  249.8092            OUT049                       1999      Medium   \n",
      "1   48.2692            OUT018                       2009      Medium   \n",
      "2  141.6180            OUT049                       1999      Medium   \n",
      "3  182.0950            OUT010                       1998         NaN   \n",
      "4   53.8614            OUT013                       1987        High   \n",
      "\n",
      "  Outlet_Location_Type        Outlet_Type  Item_Outlet_Sales  \n",
      "0               Tier 1  Supermarket Type1          3735.1380  \n",
      "1               Tier 3  Supermarket Type2           443.4228  \n",
      "2               Tier 1  Supermarket Type1          2097.2700  \n",
      "3               Tier 3      Grocery Store           732.3800  \n",
      "4               Tier 3  Supermarket Type1           994.7052  \n",
      "Item_Fat_Content :\n",
      "Index(['Low Fat', 'Regular'], dtype='object')\n",
      "Item_Type :\n",
      "Index(['Baking Goods', 'Breads', 'Breakfast', 'Canned', 'Dairy',\n",
      "       'Frozen Foods', 'Fruits and Vegetables', 'Hard Drinks',\n",
      "       'Health and Hygiene', 'Household', 'Meat', 'Others', 'Seafood',\n",
      "       'Snack Foods', 'Soft Drinks', 'Starchy Foods'],\n",
      "      dtype='object')\n",
      "Outlet_Identifier :\n",
      "Index(['OUT010', 'OUT013', 'OUT017', 'OUT018', 'OUT019', 'OUT027', 'OUT035',\n",
      "       'OUT045', 'OUT046', 'OUT049'],\n",
      "      dtype='object')\n",
      "Outlet_Size :\n",
      "Index(['High', 'Medium', 'Small'], dtype='object')\n",
      "Outlet_Location_Type :\n",
      "Index(['Tier 1', 'Tier 2', 'Tier 3'], dtype='object')\n",
      "Outlet_Type :\n",
      "Index(['Grocery Store', 'Supermarket Type1', 'Supermarket Type2',\n",
      "       'Supermarket Type3'],\n",
      "      dtype='object')\n",
      "   Item_Weight  Item_Fat_Content  Item_Visibility  Item_Type  Item_MRP  \\\n",
      "0         9.30                 0         0.016047          4  249.8092   \n",
      "1         5.92                 1         0.019278         14   48.2692   \n",
      "2        17.50                 0         0.016760         10  141.6180   \n",
      "3        19.20                 1         0.000000          6  182.0950   \n",
      "4         8.93                 0         0.000000          9   53.8614   \n",
      "\n",
      "   Outlet_Identifier  Outlet_Establishment_Year  Outlet_Size  \\\n",
      "0                  9                       1999            1   \n",
      "1                  3                       2009            1   \n",
      "2                  9                       1999            1   \n",
      "3                  0                       1998           -1   \n",
      "4                  1                       1987            0   \n",
      "\n",
      "   Outlet_Location_Type  Outlet_Type  Item_Outlet_Sales  \n",
      "0                     0            1          3735.1380  \n",
      "1                     2            2           443.4228  \n",
      "2                     0            1          2097.2700  \n",
      "3                     2            0           732.3800  \n",
      "4                     2            1           994.7052  \n"
     ]
    }
   ],
   "source": [
    "# Loading the data\n",
    "supermarket = pd.read_csv('supermarket.csv')\n",
    "print(supermarket.head())\n",
    "\n",
    "# Encode the categorical data into numbers\n",
    "supermarket_cat = supermarket.select_dtypes(['object']).copy()\n",
    "for col in supermarket_cat:\n",
    "    print(col, ':')\n",
    "    codes, uniques = pd.factorize(supermarket_cat[col], sort=True)\n",
    "    supermarket[col]=codes\n",
    "    print(uniques)\n",
    "print(supermarket.head())\n",
    "\n",
    "# Set the \"Sales\" as target/model output and the rest features as model inputs\n",
    "y = supermarket['Item_Outlet_Sales']\n",
    "X = supermarket.drop(['Item_Outlet_Sales'], axis=1)\n",
    "\n",
    "# Split the data into training and testing data\n",
    "X_train, X_test, y_train, y_test = train_test_split(X, y, test_size=0.2, random_state=2)\n",
    "\n",
    "#Sacaling the data into a smaller range (-3 to +3)\n",
    "mean = X_train.mean()\n",
    "std = X_train.std()\n",
    "\n",
    "X_train = (X_train - mean) / std\n",
    "X_test = (X_test - mean) / std"
   ]
  },
  {
   "cell_type": "code",
   "execution_count": 18,
   "metadata": {},
   "outputs": [
    {
     "data": {
      "text/html": [
       "<style>#sk-container-id-5 {color: black;background-color: white;}#sk-container-id-5 pre{padding: 0;}#sk-container-id-5 div.sk-toggleable {background-color: white;}#sk-container-id-5 label.sk-toggleable__label {cursor: pointer;display: block;width: 100%;margin-bottom: 0;padding: 0.3em;box-sizing: border-box;text-align: center;}#sk-container-id-5 label.sk-toggleable__label-arrow:before {content: \"▸\";float: left;margin-right: 0.25em;color: #696969;}#sk-container-id-5 label.sk-toggleable__label-arrow:hover:before {color: black;}#sk-container-id-5 div.sk-estimator:hover label.sk-toggleable__label-arrow:before {color: black;}#sk-container-id-5 div.sk-toggleable__content {max-height: 0;max-width: 0;overflow: hidden;text-align: left;background-color: #f0f8ff;}#sk-container-id-5 div.sk-toggleable__content pre {margin: 0.2em;color: black;border-radius: 0.25em;background-color: #f0f8ff;}#sk-container-id-5 input.sk-toggleable__control:checked~div.sk-toggleable__content {max-height: 200px;max-width: 100%;overflow: auto;}#sk-container-id-5 input.sk-toggleable__control:checked~label.sk-toggleable__label-arrow:before {content: \"▾\";}#sk-container-id-5 div.sk-estimator input.sk-toggleable__control:checked~label.sk-toggleable__label {background-color: #d4ebff;}#sk-container-id-5 div.sk-label input.sk-toggleable__control:checked~label.sk-toggleable__label {background-color: #d4ebff;}#sk-container-id-5 input.sk-hidden--visually {border: 0;clip: rect(1px 1px 1px 1px);clip: rect(1px, 1px, 1px, 1px);height: 1px;margin: -1px;overflow: hidden;padding: 0;position: absolute;width: 1px;}#sk-container-id-5 div.sk-estimator {font-family: monospace;background-color: #f0f8ff;border: 1px dotted black;border-radius: 0.25em;box-sizing: border-box;margin-bottom: 0.5em;}#sk-container-id-5 div.sk-estimator:hover {background-color: #d4ebff;}#sk-container-id-5 div.sk-parallel-item::after {content: \"\";width: 100%;border-bottom: 1px solid gray;flex-grow: 1;}#sk-container-id-5 div.sk-label:hover label.sk-toggleable__label {background-color: #d4ebff;}#sk-container-id-5 div.sk-serial::before {content: \"\";position: absolute;border-left: 1px solid gray;box-sizing: border-box;top: 0;bottom: 0;left: 50%;z-index: 0;}#sk-container-id-5 div.sk-serial {display: flex;flex-direction: column;align-items: center;background-color: white;padding-right: 0.2em;padding-left: 0.2em;position: relative;}#sk-container-id-5 div.sk-item {position: relative;z-index: 1;}#sk-container-id-5 div.sk-parallel {display: flex;align-items: stretch;justify-content: center;background-color: white;position: relative;}#sk-container-id-5 div.sk-item::before, #sk-container-id-5 div.sk-parallel-item::before {content: \"\";position: absolute;border-left: 1px solid gray;box-sizing: border-box;top: 0;bottom: 0;left: 50%;z-index: -1;}#sk-container-id-5 div.sk-parallel-item {display: flex;flex-direction: column;z-index: 1;position: relative;background-color: white;}#sk-container-id-5 div.sk-parallel-item:first-child::after {align-self: flex-end;width: 50%;}#sk-container-id-5 div.sk-parallel-item:last-child::after {align-self: flex-start;width: 50%;}#sk-container-id-5 div.sk-parallel-item:only-child::after {width: 0;}#sk-container-id-5 div.sk-dashed-wrapped {border: 1px dashed gray;margin: 0 0.4em 0.5em 0.4em;box-sizing: border-box;padding-bottom: 0.4em;background-color: white;}#sk-container-id-5 div.sk-label label {font-family: monospace;font-weight: bold;display: inline-block;line-height: 1.2em;}#sk-container-id-5 div.sk-label-container {text-align: center;}#sk-container-id-5 div.sk-container {/* jupyter's `normalize.less` sets `[hidden] { display: none; }` but bootstrap.min.css set `[hidden] { display: none !important; }` so we also need the `!important` here to be able to override the default hidden behavior on the sphinx rendered scikit-learn.org. See: https://github.com/scikit-learn/scikit-learn/issues/21755 */display: inline-block !important;position: relative;}#sk-container-id-5 div.sk-text-repr-fallback {display: none;}</style><div id=\"sk-container-id-5\" class=\"sk-top-container\"><div class=\"sk-text-repr-fallback\"><pre>LinearRegression()</pre><b>In a Jupyter environment, please rerun this cell to show the HTML representation or trust the notebook. <br />On GitHub, the HTML representation is unable to render, please try loading this page with nbviewer.org.</b></div><div class=\"sk-container\" hidden><div class=\"sk-item\"><div class=\"sk-estimator sk-toggleable\"><input class=\"sk-toggleable__control sk-hidden--visually\" id=\"sk-estimator-id-5\" type=\"checkbox\" checked><label for=\"sk-estimator-id-5\" class=\"sk-toggleable__label sk-toggleable__label-arrow\">LinearRegression</label><div class=\"sk-toggleable__content\"><pre>LinearRegression()</pre></div></div></div></div></div>"
      ],
      "text/plain": [
       "LinearRegression()"
      ]
     },
     "execution_count": 18,
     "metadata": {},
     "output_type": "execute_result"
    }
   ],
   "source": [
    "#Linear Regression Model\n",
    "lm_reg = linear_model.LinearRegression()\n",
    "lm_reg.fit(X_train, y_train)"
   ]
  },
  {
   "cell_type": "code",
   "execution_count": 19,
   "metadata": {},
   "outputs": [
    {
     "name": "stdout",
     "output_type": "stream",
     "text": [
      "[ 2.83934419e-01  3.01808227e+01 -8.61083480e+01 -4.01822348e+00\n",
      "  8.59688057e+02  1.97666270e+02 -9.91942511e+00 -1.70374509e+02\n",
      " -1.17920844e+02  6.40338748e+02]\n",
      "2073.9178811516\n"
     ]
    }
   ],
   "source": [
    "# print out the model coefficients and intercept\n",
    "print(lm_reg.coef_)\n",
    "print(lm_reg.intercept_)"
   ]
  },
  {
   "cell_type": "code",
   "execution_count": 20,
   "metadata": {},
   "outputs": [
    {
     "name": "stdout",
     "output_type": "stream",
     "text": [
      "train_mae: 835.9531497512953 \n",
      " test_mae: 813.5881859608403\n"
     ]
    }
   ],
   "source": [
    "print('train_mae:', mean_absolute_error(lm_reg.predict(X_train), y_train), \n",
    "      '\\n test_mae:', mean_absolute_error(lm_reg.predict(X_test), y_test))"
   ]
  },
  {
   "cell_type": "code",
   "execution_count": 21,
   "metadata": {},
   "outputs": [
    {
     "data": {
      "text/plain": [
       "count    8337.000000\n",
       "mean     2059.362844\n",
       "std      1506.099754\n",
       "min        33.290000\n",
       "25%       810.944400\n",
       "50%      1747.059200\n",
       "75%      2998.097400\n",
       "max      6478.234000\n",
       "Name: Item_Outlet_Sales, dtype: float64"
      ]
     },
     "execution_count": 21,
     "metadata": {},
     "output_type": "execute_result"
    }
   ],
   "source": [
    "supermarket.Item_Outlet_Sales.describe()"
   ]
  },
  {
   "cell_type": "code",
   "execution_count": 22,
   "metadata": {},
   "outputs": [
    {
     "data": {
      "text/plain": [
       "0.47876024412383733"
      ]
     },
     "execution_count": 22,
     "metadata": {},
     "output_type": "execute_result"
    }
   ],
   "source": [
    "# R squared value\n",
    "lm_reg.score(X_test, y_test)"
   ]
  },
  {
   "cell_type": "markdown",
   "metadata": {},
   "source": [
    "**statsmodels**"
   ]
  },
  {
   "cell_type": "code",
   "execution_count": 23,
   "metadata": {},
   "outputs": [],
   "source": [
    "# Create another model lm_reg2 using statsmodel.api: the Ordinary Least Squares (OLS) method and fit function\n",
    "import statsmodels.api as sm\n",
    "X_train_add = sm.add_constant(X_train)\n",
    "lm_reg2 = sm.OLS(y_train, X_train_add).fit()"
   ]
  },
  {
   "cell_type": "code",
   "execution_count": 24,
   "metadata": {
    "scrolled": true
   },
   "outputs": [
    {
     "data": {
      "text/html": [
       "<table class=\"simpletable\">\n",
       "<caption>OLS Regression Results</caption>\n",
       "<tr>\n",
       "  <th>Dep. Variable:</th>    <td>Item_Outlet_Sales</td> <th>  R-squared:         </th> <td>   0.493</td> \n",
       "</tr>\n",
       "<tr>\n",
       "  <th>Model:</th>                   <td>OLS</td>        <th>  Adj. R-squared:    </th> <td>   0.492</td> \n",
       "</tr>\n",
       "<tr>\n",
       "  <th>Method:</th>             <td>Least Squares</td>   <th>  F-statistic:       </th> <td>   646.7</td> \n",
       "</tr>\n",
       "<tr>\n",
       "  <th>Date:</th>             <td>Wed, 04 Jan 2023</td>  <th>  Prob (F-statistic):</th>  <td>  0.00</td>  \n",
       "</tr>\n",
       "<tr>\n",
       "  <th>Time:</th>                 <td>13:32:16</td>      <th>  Log-Likelihood:    </th> <td> -56063.</td> \n",
       "</tr>\n",
       "<tr>\n",
       "  <th>No. Observations:</th>      <td>  6669</td>       <th>  AIC:               </th> <td>1.121e+05</td>\n",
       "</tr>\n",
       "<tr>\n",
       "  <th>Df Residuals:</th>          <td>  6658</td>       <th>  BIC:               </th> <td>1.122e+05</td>\n",
       "</tr>\n",
       "<tr>\n",
       "  <th>Df Model:</th>              <td>    10</td>       <th>                     </th>     <td> </td>    \n",
       "</tr>\n",
       "<tr>\n",
       "  <th>Covariance Type:</th>      <td>nonrobust</td>     <th>                     </th>     <td> </td>    \n",
       "</tr>\n",
       "</table>\n",
       "<table class=\"simpletable\">\n",
       "<tr>\n",
       "              <td></td>                 <th>coef</th>     <th>std err</th>      <th>t</th>      <th>P>|t|</th>  <th>[0.025</th>    <th>0.975]</th>  \n",
       "</tr>\n",
       "<tr>\n",
       "  <th>const</th>                     <td> 2073.9179</td> <td>   13.274</td> <td>  156.239</td> <td> 0.000</td> <td> 2047.897</td> <td> 2099.939</td>\n",
       "</tr>\n",
       "<tr>\n",
       "  <th>Item_Weight</th>               <td>    0.2839</td> <td>   13.299</td> <td>    0.021</td> <td> 0.983</td> <td>  -25.786</td> <td>   26.354</td>\n",
       "</tr>\n",
       "<tr>\n",
       "  <th>Item_Fat_Content</th>          <td>   30.1808</td> <td>   13.411</td> <td>    2.250</td> <td> 0.024</td> <td>    3.891</td> <td>   56.471</td>\n",
       "</tr>\n",
       "<tr>\n",
       "  <th>Item_Visibility</th>           <td>  -86.1083</td> <td>   13.638</td> <td>   -6.314</td> <td> 0.000</td> <td> -112.844</td> <td>  -59.373</td>\n",
       "</tr>\n",
       "<tr>\n",
       "  <th>Item_Type</th>                 <td>   -4.0182</td> <td>   13.420</td> <td>   -0.299</td> <td> 0.765</td> <td>  -30.326</td> <td>   22.290</td>\n",
       "</tr>\n",
       "<tr>\n",
       "  <th>Item_MRP</th>                  <td>  859.6881</td> <td>   13.302</td> <td>   64.626</td> <td> 0.000</td> <td>  833.611</td> <td>  885.765</td>\n",
       "</tr>\n",
       "<tr>\n",
       "  <th>Outlet_Identifier</th>         <td>  197.6663</td> <td>   27.182</td> <td>    7.272</td> <td> 0.000</td> <td>  144.381</td> <td>  250.952</td>\n",
       "</tr>\n",
       "<tr>\n",
       "  <th>Outlet_Establishment_Year</th> <td>   -9.9194</td> <td>   13.923</td> <td>   -0.712</td> <td> 0.476</td> <td>  -37.212</td> <td>   17.373</td>\n",
       "</tr>\n",
       "<tr>\n",
       "  <th>Outlet_Size</th>               <td> -170.3745</td> <td>   16.423</td> <td>  -10.374</td> <td> 0.000</td> <td> -202.569</td> <td> -138.180</td>\n",
       "</tr>\n",
       "<tr>\n",
       "  <th>Outlet_Location_Type</th>      <td> -117.9208</td> <td>   31.317</td> <td>   -3.765</td> <td> 0.000</td> <td> -179.313</td> <td>  -56.529</td>\n",
       "</tr>\n",
       "<tr>\n",
       "  <th>Outlet_Type</th>               <td>  640.3387</td> <td>   22.003</td> <td>   29.102</td> <td> 0.000</td> <td>  597.205</td> <td>  683.473</td>\n",
       "</tr>\n",
       "</table>\n",
       "<table class=\"simpletable\">\n",
       "<tr>\n",
       "  <th>Omnibus:</th>       <td>162.408</td> <th>  Durbin-Watson:     </th> <td>   2.020</td>\n",
       "</tr>\n",
       "<tr>\n",
       "  <th>Prob(Omnibus):</th> <td> 0.000</td>  <th>  Jarque-Bera (JB):  </th> <td> 185.448</td>\n",
       "</tr>\n",
       "<tr>\n",
       "  <th>Skew:</th>          <td> 0.345</td>  <th>  Prob(JB):          </th> <td>5.38e-41</td>\n",
       "</tr>\n",
       "<tr>\n",
       "  <th>Kurtosis:</th>      <td> 3.436</td>  <th>  Cond. No.          </th> <td>    4.75</td>\n",
       "</tr>\n",
       "</table><br/><br/>Notes:<br/>[1] Standard Errors assume that the covariance matrix of the errors is correctly specified."
      ],
      "text/plain": [
       "<class 'statsmodels.iolib.summary.Summary'>\n",
       "\"\"\"\n",
       "                            OLS Regression Results                            \n",
       "==============================================================================\n",
       "Dep. Variable:      Item_Outlet_Sales   R-squared:                       0.493\n",
       "Model:                            OLS   Adj. R-squared:                  0.492\n",
       "Method:                 Least Squares   F-statistic:                     646.7\n",
       "Date:                Wed, 04 Jan 2023   Prob (F-statistic):               0.00\n",
       "Time:                        13:32:16   Log-Likelihood:                -56063.\n",
       "No. Observations:                6669   AIC:                         1.121e+05\n",
       "Df Residuals:                    6658   BIC:                         1.122e+05\n",
       "Df Model:                          10                                         \n",
       "Covariance Type:            nonrobust                                         \n",
       "=============================================================================================\n",
       "                                coef    std err          t      P>|t|      [0.025      0.975]\n",
       "---------------------------------------------------------------------------------------------\n",
       "const                      2073.9179     13.274    156.239      0.000    2047.897    2099.939\n",
       "Item_Weight                   0.2839     13.299      0.021      0.983     -25.786      26.354\n",
       "Item_Fat_Content             30.1808     13.411      2.250      0.024       3.891      56.471\n",
       "Item_Visibility             -86.1083     13.638     -6.314      0.000    -112.844     -59.373\n",
       "Item_Type                    -4.0182     13.420     -0.299      0.765     -30.326      22.290\n",
       "Item_MRP                    859.6881     13.302     64.626      0.000     833.611     885.765\n",
       "Outlet_Identifier           197.6663     27.182      7.272      0.000     144.381     250.952\n",
       "Outlet_Establishment_Year    -9.9194     13.923     -0.712      0.476     -37.212      17.373\n",
       "Outlet_Size                -170.3745     16.423    -10.374      0.000    -202.569    -138.180\n",
       "Outlet_Location_Type       -117.9208     31.317     -3.765      0.000    -179.313     -56.529\n",
       "Outlet_Type                 640.3387     22.003     29.102      0.000     597.205     683.473\n",
       "==============================================================================\n",
       "Omnibus:                      162.408   Durbin-Watson:                   2.020\n",
       "Prob(Omnibus):                  0.000   Jarque-Bera (JB):              185.448\n",
       "Skew:                           0.345   Prob(JB):                     5.38e-41\n",
       "Kurtosis:                       3.436   Cond. No.                         4.75\n",
       "==============================================================================\n",
       "\n",
       "Notes:\n",
       "[1] Standard Errors assume that the covariance matrix of the errors is correctly specified.\n",
       "\"\"\""
      ]
     },
     "execution_count": 24,
     "metadata": {},
     "output_type": "execute_result"
    }
   ],
   "source": [
    "# Print out the Model Summary\n",
    "lm_reg2.summary()"
   ]
  },
  {
   "cell_type": "markdown",
   "metadata": {},
   "source": [
    "The lower the **p-value**, the higher confidence we have on the coefficients of these features, i.e. the more strong indicators to predict `deposit`. "
   ]
  },
  {
   "cell_type": "code",
   "execution_count": null,
   "metadata": {},
   "outputs": [],
   "source": []
  }
 ],
 "metadata": {
  "kernelspec": {
   "display_name": "Python 3 (ipykernel)",
   "language": "python",
   "name": "python3"
  },
  "language_info": {
   "codemirror_mode": {
    "name": "ipython",
    "version": 3
   },
   "file_extension": ".py",
   "mimetype": "text/x-python",
   "name": "python",
   "nbconvert_exporter": "python",
   "pygments_lexer": "ipython3",
   "version": "3.9.12"
  }
 },
 "nbformat": 4,
 "nbformat_minor": 4
}
